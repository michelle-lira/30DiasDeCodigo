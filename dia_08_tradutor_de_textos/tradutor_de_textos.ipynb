{
  "nbformat": 4,
  "nbformat_minor": 0,
  "metadata": {
    "colab": {
      "name": "tradutor_de_textos.ipynb",
      "provenance": []
    },
    "kernelspec": {
      "name": "python3",
      "display_name": "Python 3"
    },
    "language_info": {
      "name": "python"
    }
  },
  "cells": [
    {
      "cell_type": "markdown",
      "metadata": {
        "id": "KKzxk2X1IyeT"
      },
      "source": [
        "# Tradutor de textos usando Python\n",
        "\n",
        "---\n",
        "\n"
      ]
    },
    {
      "cell_type": "markdown",
      "metadata": {
        "id": "S8WN01WmKqkX"
      },
      "source": [
        "Utilizaremos a biblioteca [Translate](https://pypi.org/project/translate/)"
      ]
    },
    {
      "cell_type": "code",
      "metadata": {
        "colab": {
          "base_uri": "https://localhost:8080/"
        },
        "id": "vDMDyI2-IuMX",
        "outputId": "e7ddb01d-9db3-48ec-a0a5-534c77d0e2b8"
      },
      "source": [
        "pip install translate"
      ],
      "execution_count": 5,
      "outputs": [
        {
          "output_type": "stream",
          "text": [
            "Requirement already satisfied: translate in /usr/local/lib/python3.7/dist-packages (3.6.1)\n",
            "Requirement already satisfied: requests in /usr/local/lib/python3.7/dist-packages (from translate) (2.23.0)\n",
            "Requirement already satisfied: lxml in /usr/local/lib/python3.7/dist-packages (from translate) (4.2.6)\n",
            "Requirement already satisfied: click in /usr/local/lib/python3.7/dist-packages (from translate) (7.1.2)\n",
            "Requirement already satisfied: libretranslatepy==2.1.1 in /usr/local/lib/python3.7/dist-packages (from translate) (2.1.1)\n",
            "Requirement already satisfied: idna<3,>=2.5 in /usr/local/lib/python3.7/dist-packages (from requests->translate) (2.10)\n",
            "Requirement already satisfied: urllib3!=1.25.0,!=1.25.1,<1.26,>=1.21.1 in /usr/local/lib/python3.7/dist-packages (from requests->translate) (1.24.3)\n",
            "Requirement already satisfied: certifi>=2017.4.17 in /usr/local/lib/python3.7/dist-packages (from requests->translate) (2021.5.30)\n",
            "Requirement already satisfied: chardet<4,>=3.0.2 in /usr/local/lib/python3.7/dist-packages (from requests->translate) (3.0.4)\n"
          ],
          "name": "stdout"
        }
      ]
    },
    {
      "cell_type": "code",
      "metadata": {
        "colab": {
          "base_uri": "https://localhost:8080/"
        },
        "id": "EmKfaB6YI9FH",
        "outputId": "959cb612-cf96-443a-f6f9-fc6a19242885"
      },
      "source": [
        "# Importando a biblioteca\n",
        "from translate import Translator\n",
        "\n",
        "# Definindo os idiomas\n",
        "# Tradução Português - Chinês\n",
        "languages = Translator(from_lang = \"Portuguese\",\n",
        "                       to_lang = \"Chinese\")\n",
        "\n",
        "# Definindo o texto a ser traduzido\n",
        "response = languages.translate(\"Traduzindo texto em Python\")\n",
        "print(response)"
      ],
      "execution_count": 6,
      "outputs": [
        {
          "output_type": "stream",
          "text": [
            "将文本翻译成 Python\n"
          ],
          "name": "stdout"
        }
      ]
    },
    {
      "cell_type": "code",
      "metadata": {
        "colab": {
          "base_uri": "https://localhost:8080/"
        },
        "id": "KrBs6cd2JlJu",
        "outputId": "5c6722de-2b20-4823-b597-3c828585738d"
      },
      "source": [
        "# Tradução Português - Inglês\n",
        "languages_2 = Translator(from_lang = \"Portuguese\",\n",
        "                       to_lang = \"English\")\n",
        "\n",
        "response_2 = languages_2.translate(\"Traduzindo texto em Python\")\n",
        "print(response_2)"
      ],
      "execution_count": 14,
      "outputs": [
        {
          "output_type": "stream",
          "text": [
            "Translating text into Python\n"
          ],
          "name": "stdout"
        }
      ]
    },
    {
      "cell_type": "code",
      "metadata": {
        "colab": {
          "base_uri": "https://localhost:8080/"
        },
        "id": "P5cg15jYJtb7",
        "outputId": "4324cfde-cf54-4762-fddb-2e83b19a0ad6"
      },
      "source": [
        "# Tradução Português - Japonês\n",
        "languages_3 = Translator(from_lang = \"Portuguese\",\n",
        "                       to_lang = \"Japanese\")\n",
        "\n",
        "response_3 = languages_3.translate(\"Traduzindo texto em Python\")\n",
        "print(response_3)"
      ],
      "execution_count": 17,
      "outputs": [
        {
          "output_type": "stream",
          "text": [
            "テキストをPythonに翻訳する\n"
          ],
          "name": "stdout"
        }
      ]
    },
    {
      "cell_type": "code",
      "metadata": {
        "colab": {
          "base_uri": "https://localhost:8080/"
        },
        "id": "wmC_FxgFKKek",
        "outputId": "74f48501-9228-4041-8af4-3e1f105fb4ac"
      },
      "source": [
        "# Tradução Português - Alemão\n",
        "languages_4 = Translator(from_lang = \"Portuguese\",\n",
        "                       to_lang = \"German\")\n",
        "\n",
        "response_4 = languages_4.translate(\"Traduzindo texto em Python\")\n",
        "print(response_4)"
      ],
      "execution_count": 18,
      "outputs": [
        {
          "output_type": "stream",
          "text": [
            "Text in Python übersetzen\n"
          ],
          "name": "stdout"
        }
      ]
    },
    {
      "cell_type": "code",
      "metadata": {
        "colab": {
          "base_uri": "https://localhost:8080/"
        },
        "id": "RcWk3HfdKXJZ",
        "outputId": "2309073e-91cd-4e59-8f6a-f46ea5281ddd"
      },
      "source": [
        "# Tradução Português - Francês\n",
        "languages_5 = Translator(from_lang = \"Portuguese\",\n",
        "                       to_lang = \"French\")\n",
        "\n",
        "response_5 = languages_5.translate(\"Traduzindo texto em Python\")\n",
        "print(response_5)"
      ],
      "execution_count": 19,
      "outputs": [
        {
          "output_type": "stream",
          "text": [
            "Traduire du texte en Python\n"
          ],
          "name": "stdout"
        }
      ]
    },
    {
      "cell_type": "markdown",
      "metadata": {
        "id": "vciQ6L7NKg0B"
      },
      "source": [
        "#### Fonte: Oficina Python"
      ]
    },
    {
      "cell_type": "markdown",
      "metadata": {
        "id": "gIePt0HoKm38"
      },
      "source": [
        "## Fim"
      ]
    }
  ]
}