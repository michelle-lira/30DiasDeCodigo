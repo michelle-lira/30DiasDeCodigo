{
  "nbformat": 4,
  "nbformat_minor": 0,
  "metadata": {
    "colab": {
      "name": "lists_and_for_loops.ipynb",
      "provenance": []
    },
    "kernelspec": {
      "name": "python3",
      "display_name": "Python 3"
    },
    "language_info": {
      "name": "python"
    }
  },
  "cells": [
    {
      "cell_type": "markdown",
      "metadata": {
        "id": "xcYV2xt6BIbf"
      },
      "source": [
        "# Dataquest\n",
        "## Data Analyst in Python - step 1\n"
      ]
    },
    {
      "cell_type": "markdown",
      "metadata": {
        "id": "zOvQ-ZjoB5Lc"
      },
      "source": [
        "### 1.3 Lists and for loops for Data Science"
      ]
    },
    {
      "cell_type": "markdown",
      "metadata": {
        "id": "bQmtWl01-Wqa"
      },
      "source": [
        "1. Lists"
      ]
    },
    {
      "cell_type": "markdown",
      "metadata": {
        "id": "2JV5lIweAjBH"
      },
      "source": [
        "Instructions\n",
        "\n",
        "    Store the second row ('Instagram', 0.0, 'USD', 2161558, 4.5) as a list in a variable named row_2.\n",
        "    Store the third row ('Clash of Clans', 0.0, 'USD', 2130805, 4.5) as a list in a variable named row_3.\n"
      ]
    },
    {
      "cell_type": "code",
      "metadata": {
        "colab": {
          "base_uri": "https://localhost:8080/"
        },
        "id": "xVSqYm9qAmrr",
        "outputId": "a3af1eba-2ecb-4193-9134-e9abe8661c38"
      },
      "source": [
        "row_2 = ['Instagram', 0.0, 'USD', 2161558, 4.5]\n",
        "row_3 = ['Clash of Clans', 0.0, 'USD', 2130805, 4.5]\n",
        "print (row_1, row_2)"
      ],
      "execution_count": null,
      "outputs": [
        {
          "output_type": "stream",
          "text": [
            "['Facebook', 0.0, 'USD', 2974676, 3.5] ['Instagram', 0.0, 'USD', 2161558, 4.5]\n"
          ],
          "name": "stdout"
        }
      ]
    },
    {
      "cell_type": "markdown",
      "metadata": {
        "id": "TL_A_xdS-QlE"
      },
      "source": [
        "2. Indexing"
      ]
    },
    {
      "cell_type": "markdown",
      "metadata": {
        "id": "55KdfWW-AR0i"
      },
      "source": [
        "Instructions\n",
        "\n",
        "In the code editor, you can already see the lists for the first three rows.\n",
        "\n",
        "The fourth element in each list describes the number of ratings an app has received. Retrieve the fourth element from each list, and then find the average value of the retrieved numbers.\n",
        "\n",
        "    Assign the fourth element from the list row_1 to a variable named ratings_1. Don't forget that the indexing starts at 0.\n",
        "    Assign the fourth element from the list row_2 to a variable named ratings_2.\n",
        "    Assign the fourth element from the list row_3 to a variable named ratings_3.\n",
        "    Add the three numbers retrieved together and save the sum to a variable named total.\n",
        "    Divide the sum (now saved in the variable total) by 3 to get the average number of ratings for the first three rows. Assign the result to a variable named average.\n"
      ]
    },
    {
      "cell_type": "code",
      "metadata": {
        "colab": {
          "base_uri": "https://localhost:8080/"
        },
        "id": "EGmEu-u8AE-P",
        "outputId": "9c043597-fe3e-4022-843f-e57561620a6e"
      },
      "source": [
        "row_1 = ['Facebook', 0.0, 'USD', 2974676, 3.5]\n",
        "row_2 = ['Instagram', 0.0, 'USD', 2161558, 4.5]\n",
        "row_3 = ['Clash of Clans', 0.0, 'USD', 2130805, 4.5]\n",
        "\n",
        "ratings_1 = int(row_1[3])\n",
        "ratings_2 = int(row_2[3])\n",
        "ratings_3 = int(row_3[3])\n",
        "\n",
        "total = ratings_1 + ratings_2 + ratings_3\n",
        "average = (ratings_1 + ratings_2 + ratings_3) / 3\n",
        "\n",
        "print(total)\n",
        "print(average)"
      ],
      "execution_count": null,
      "outputs": [
        {
          "output_type": "stream",
          "text": [
            "7267039\n",
            "2422346.3333333335\n"
          ],
          "name": "stdout"
        }
      ]
    },
    {
      "cell_type": "markdown",
      "metadata": {
        "id": "uL_N7BIx-Lun"
      },
      "source": [
        "3. Negative Indexing"
      ]
    },
    {
      "cell_type": "markdown",
      "metadata": {
        "id": "OA1_-OyVRR4a"
      },
      "source": [
        "Instructions\n",
        "\n",
        "The last element in each list shows the average rating of each application.\n",
        "\n",
        "Retrieve the ratings for the first three rows, and then find the average value of all the ratings retrieved.\n",
        "\n",
        "    Assign the last element from the list row_1 to a variable named rating_1. Try to take advantage of negative indexing.\n",
        "    Assign the last element from the list row_2 to a variable named rating_2.\n",
        "    Assign the last element from the list row_3 to a variable named rating_3.\n",
        "    Add the three ratings together and save the sum to a variable named total_rating.\n",
        "    Divide the total by 3 to get the average rating. Assign the result to a variable named average_rating."
      ]
    },
    {
      "cell_type": "code",
      "metadata": {
        "id": "x-3EBJGkF9QW",
        "colab": {
          "base_uri": "https://localhost:8080/"
        },
        "outputId": "e3642d74-c30c-407d-e72c-1a311c42f673"
      },
      "source": [
        "row_1 = ['Facebook', 0.0, 'USD', 2974676, 3.5]\n",
        "row_2 = ['Instagram', 0.0, 'USD', 2161558, 4.5]\n",
        "row_3 = ['Clash of Clans', 0.0, 'USD', 2130805, 4.5]\n",
        "\n",
        "rating_1 = row_1[-1]\n",
        "rating_2 = row_2[-1]\n",
        "rating_3 = row_3[-1]\n",
        "\n",
        "total_rating = rating_1 + rating_2 + rating_3\n",
        "average_rating = total_rating / 3\n",
        "\n",
        "print(total_rating)\n",
        "print(average_rating)"
      ],
      "execution_count": null,
      "outputs": [
        {
          "output_type": "stream",
          "text": [
            "12.5\n",
            "4.166666666666667\n"
          ],
          "name": "stdout"
        }
      ]
    },
    {
      "cell_type": "markdown",
      "metadata": {
        "id": "7EWD9ZCkBnfQ"
      },
      "source": [
        "4. Retrieving Multiple List Elements\n",
        "nstructions\n",
        "\n",
        "    For Facebook, Instagram, and Pandora — Music & Radio, isolate the rating data in separate lists. Each list should contain the name of the app, the rating count, and the user rating. Don't forget that indexing starts at 0.\n",
        "        For Facebook, assign the list to a variable named fb_rating_data.\n",
        "        For Instagram, assign the list to a variable named insta_rating_data.\n",
        "        For Pandora — Music & Radio, assign the list to a variable named pandora_rating_data.\n",
        "\n",
        "    Compute the average user rating for Facebook, Instagram, and Pandora — Music & Radio using the data you stored in fb_rating_data, insta_rating_data, and pandora_rating_data.\n",
        "        You'll need to add the ratings together first, and then divide the total by the number of ratings.\n",
        "        Assign the result to a variable named avg_rating.\n",
        "        As a side note, we could calculate the average rating here a little bit better using the weighted mean.\n",
        "\n"
      ]
    },
    {
      "cell_type": "code",
      "metadata": {
        "id": "5Fr1vZGVRzWD",
        "colab": {
          "base_uri": "https://localhost:8080/"
        },
        "outputId": "6a427870-e9e1-4b54-fec8-21a4f948e3a7"
      },
      "source": [
        "row_1 = ['Facebook', 0.0, 'USD', 2974676, 3.5]\n",
        "row_2 = ['Instagram', 0.0, 'USD', 2161558, 4.5]\n",
        "row_3 = ['Clash of Clans', 0.0, 'USD', 2130805, 4.5]\n",
        "row_4 = ['Temple Run', 0.0, 'USD', 1724546, 4.5]\n",
        "row_5 = ['Pandora - Music & Radio', 0.0, 'USD', 1126879, 4.0]\n",
        "\n",
        "fb_rating_data = [row_1[0], row_1[3], row_1[-1]]\n",
        "insta_rating_data = [row_2[0], row_2[3], row_2[4]]\n",
        "pandora_rating_data = [row_5[0], row_5[3], row_5[4]]\n",
        "\n",
        "avg_rating = (fb_rating_data[2] + insta_rating_data[2] + pandora_rating_data[2]) / 3\n",
        "print(avg_rating)"
      ],
      "execution_count": null,
      "outputs": [
        {
          "output_type": "stream",
          "text": [
            "4.0\n"
          ],
          "name": "stdout"
        }
      ]
    },
    {
      "cell_type": "markdown",
      "metadata": {
        "id": "9yTxeHiUQkp8"
      },
      "source": [
        "5. List Slicing\n",
        "\n",
        "Instructions\n",
        "\n",
        "    Select the first four elements from row_1 using a list slicing syntax shortcut. Assign the output to a variable named first_4_fb.\n",
        "    Select the last three elements from row_1 using a list slicing syntax shortcut. Assign the output to a variable named last_3_fb.\n",
        "    From row_5, select the list slice ['USD', 1126879] using a list slicing syntax shortcut. Assign the output to a variable named pandora_3_4.\n"
      ]
    },
    {
      "cell_type": "code",
      "metadata": {
        "id": "rUOFZR0bQlLM",
        "colab": {
          "base_uri": "https://localhost:8080/"
        },
        "outputId": "7ded0614-c411-4671-b5f6-27ac562a9727"
      },
      "source": [
        "row_1 = ['Facebook', 0.0, 'USD', 2974676, 3.5]\n",
        "row_2 = ['Instagram', 0.0, 'USD', 2161558, 4.5]\n",
        "row_3 = ['Clash of Clans', 0.0, 'USD', 2130805, 4.5]\n",
        "row_4 = ['Temple Run', 0.0, 'USD', 1724546, 4.5]\n",
        "row_5 = ['Pandora - Music & Radio', 0.0, 'USD', 1126879, 4.0]\n",
        "\n",
        "first_4_fb = row_1[0:4]\n",
        "last_3_fb = row_1[-3:]\n",
        "pandora_3_4 = row_5[2:4]\n",
        "\n",
        "print(first_4_fb)\n",
        "print(last_3_fb)\n",
        "print(pandora_3_4)"
      ],
      "execution_count": null,
      "outputs": [
        {
          "output_type": "stream",
          "text": [
            "['Facebook', 0.0, 'USD', 2974676]\n",
            "['USD', 2974676, 3.5]\n",
            "['USD', 1126879]\n"
          ],
          "name": "stdout"
        }
      ]
    },
    {
      "cell_type": "markdown",
      "metadata": {
        "id": "PoYDS0aeNpw5"
      },
      "source": [
        "6. List of Lists"
      ]
    },
    {
      "cell_type": "markdown",
      "metadata": {
        "id": "lEJcBRDM9XYR"
      },
      "source": [
        "Instructions\n",
        "\n",
        "    In the code editor, we've already stored the five rows as lists in separate variables. Group the five lists together in a list of lists. Assign the resulting list of lists to a variable named app_data_set.\n",
        "    Compute the average rating of the apps by retrieving the right data points from the app_data_set list of lists.\n",
        "        The rating is the last element of each row. You'll need to add up the ratings and then divide by the number of ratings.\n",
        "        Assign the result to a variable named avg_rating.\n"
      ]
    },
    {
      "cell_type": "code",
      "metadata": {
        "id": "_mLeXKmr9VRI"
      },
      "source": [
        "row_1 = ['Facebook', 0.0, 'USD', 2974676, 3.5]\n",
        "row_2 = ['Instagram', 0.0, 'USD', 2161558, 4.5]\n",
        "row_3 = ['Clash of Clans', 0.0, 'USD', 2130805, 4.5]\n",
        "row_4 = ['Temple Run', 0.0, 'USD', 1724546, 4.5]\n",
        "row_5 = ['Pandora - Music & Radio', 0.0, 'USD', 1126879, 4.0]\n",
        "\n",
        "app_data_set = [row_1, row_2, row_3, row_4, row_5]\n",
        "\n",
        "avg_rating = (app_data_set[0][-1] + app_data_set[1][-1] + app_data_set[2][-1] + app_data_set[3][-1] + app_data_set[4][-1]) / 5"
      ],
      "execution_count": null,
      "outputs": []
    },
    {
      "cell_type": "markdown",
      "metadata": {
        "id": "9-hDTNezNttQ"
      },
      "source": [
        "7. Opening a File"
      ]
    },
    {
      "cell_type": "markdown",
      "metadata": {
        "id": "CbQky4os9muF"
      },
      "source": [
        "Instructions\n",
        "\n",
        "Open the AppleStore.csv file and store it as a list of lists.\n",
        "\n",
        "    Open the file using the open() command. Save the output to a variable named opened_file.\n",
        "    Read in the opened file using the reader() command (we've already imported reader() for you from the csv module). Save the output to a variable named read_file.\n",
        "    Transform the read-in file to a list of lists using the list() command. Save the list of lists to a variable named apps_data.\n",
        "    Explore apps_data. You could do the following:\n",
        "        Print its length using the len() command\n",
        "        Print the first row (the row describing column names)\n",
        "        Print the second and the third row (try to use list slicing here)\n"
      ]
    },
    {
      "cell_type": "code",
      "metadata": {
        "id": "VsssfLyP9k4v"
      },
      "source": [
        "from csv import reader\n",
        "\n",
        "opened_file = open('AppleStore.csv')\n",
        "\n",
        "read_file = reader(opened_file)\n",
        "\n",
        "apps_data = list(read_file)\n",
        "\n",
        "len(apps_data)\n",
        "\n",
        "print(apps_data[:1])\n",
        "\n",
        "print(apps_data[1:3])"
      ],
      "execution_count": null,
      "outputs": []
    },
    {
      "cell_type": "markdown",
      "metadata": {
        "id": "Ue5pRducN1TF"
      },
      "source": [
        "8. Repetitive Processes"
      ]
    },
    {
      "cell_type": "markdown",
      "metadata": {
        "id": "HMiQipP0905W"
      },
      "source": [
        "Instructions\n",
        "\n",
        "    Use the new technique we've learned to print all the rows in the app_data_set list of lists.\n",
        "        You'll need to translate this pattern into Python syntax: for each list in the app_data_set variable, print that list.\n",
        "        Remember to use indentation.\n"
      ]
    },
    {
      "cell_type": "code",
      "metadata": {
        "id": "fyAubdVL9xKV"
      },
      "source": [
        "row_1 = ['Facebook', 0.0, 'USD', 2974676, 3.5]\n",
        "row_2 = ['Instagram', 0.0, 'USD', 2161558, 4.5]\n",
        "row_3 = ['Clash of Clans', 0.0, 'USD', 2130805, 4.5]\n",
        "row_4 = ['Temple Run', 0.0, 'USD', 1724546, 4.5]\n",
        "row_5 = ['Pandora - Music & Radio', 0.0, 'USD', 1126879, 4.0]\n",
        "\n",
        "app_data_set = [row_1, row_2, row_3, row_4, row_5]\n",
        "\n",
        "for each_list in app_data_set:\n",
        "    print(each_list)"
      ],
      "execution_count": null,
      "outputs": []
    },
    {
      "cell_type": "markdown",
      "metadata": {
        "id": "tlVr0ldxN_6i"
      },
      "source": [
        "9. For Loops"
      ]
    },
    {
      "cell_type": "markdown",
      "metadata": {
        "id": "XMT77KG1-iIv"
      },
      "source": [
        "Instructions\n",
        "\n",
        "Compute the average app rating for the apps stored in the app_data_set variable.\n",
        "\n",
        "    Initialize a variable named rating_sum with a value of zero outside the loop body.\n",
        "    Loop (iterate) over the app_data_set list of lists. For each of the five iterations of the loop (for each row in app_data_set):\n",
        "    Extract the rating of the app and store it to a variable named rating. The rating is the last element of each row.\n",
        "    Add the value stored in rating to the current value of the rating_sum.\n",
        "    Outside the loop body, divide the rating sum (stored in rating_sum) by the number of ratings to get an average value. Store the result in a variable named avg_rating.\n"
      ]
    },
    {
      "cell_type": "code",
      "metadata": {
        "id": "UilpQfrk-hIm"
      },
      "source": [
        "row_1 = ['Facebook', 0.0, 'USD', 2974676, 3.5]\n",
        "row_2 = ['Instagram', 0.0, 'USD', 2161558, 4.5]\n",
        "row_3 = ['Clash of Clans', 0.0, 'USD', 2130805, 4.5]\n",
        "row_4 = ['Temple Run', 0.0, 'USD', 1724546, 4.5]\n",
        "row_5 = ['Pandora - Music & Radio', 0.0, 'USD', 1126879, 4.0]\n",
        "\n",
        "app_data_set = [row_1, row_2, row_3, row_4, row_5]\n",
        "\n",
        "rating_sum = 0\n",
        "\n",
        "for each_row in app_data_set:\n",
        "    rating = each_row[-1]\n",
        "    rating_sum = rating_sum + rating\n",
        "    print(rating_sum)\n",
        "    \n",
        "avg_rating = rating_sum / len(app_data_set)\n",
        "    "
      ],
      "execution_count": null,
      "outputs": []
    },
    {
      "cell_type": "markdown",
      "metadata": {
        "id": "X_Ph9fdSOB4A"
      },
      "source": [
        "10. The Average App Rating"
      ]
    },
    {
      "cell_type": "markdown",
      "metadata": {
        "id": "CQdGj-3OOwdR"
      },
      "source": [
        "Instructions\n",
        "\n",
        "Compute the average app rating for all the 7,197 apps stored in the data set.\n",
        "\n",
        "    Initialize a variable named rating_sum with a value of zero.\n",
        "    Loop through the apps_data[1:] list of lists (make sure you don't include the header row). For each of the 7,197 iterations of the loop (for each row in apps_data[1:]) do the following:\n",
        "        Extract the rating of the app and store it to a variable named rating (the rating has the index number 7). Convert the rating value from a string to a float using the float() command.\n",
        "        Add the value stored in rating to the current value of the rating_sum.\n",
        "    Divide the rating sum (stored in rating_sum) by the number of ratings to get an average value. Store the result in a variable named avg_rating.\n"
      ]
    },
    {
      "cell_type": "code",
      "metadata": {
        "id": "lbvn_M3XOvBy"
      },
      "source": [
        "opened_file = open('AppleStore.csv')\n",
        "from csv import reader\n",
        "read_file = reader(opened_file)\n",
        "apps_data = list(read_file)\n",
        "\n",
        "rating_sum = 0\n",
        "for row in apps_data[1:]:\n",
        "    rating = float(row[7])\n",
        "    rating_sum = rating_sum + rating\n",
        "    \n",
        "avg_rating = rating_sum / len(apps_data[1:])\n",
        "print(avg_rating)\n",
        "    "
      ],
      "execution_count": null,
      "outputs": []
    },
    {
      "cell_type": "markdown",
      "metadata": {
        "id": "8IaILFO7OIw7"
      },
      "source": [
        "11. Alternative Method to Compute an Average"
      ]
    },
    {
      "cell_type": "markdown",
      "metadata": {
        "id": "74z482QNOlzg"
      },
      "source": [
        "Instructions\n",
        "\n",
        "Using the new technique we've learned, compute the average app rating for all of the 7,197 apps stored in our dataset.\n",
        "\n",
        "    Initialize an empty list named all_ratings.\n",
        "    Loop through the apps_data[1:] list of lists (don't include the header row). For each of the 7,197 iterations of the loop, do the following:\n",
        "        Extract the rating of the app and store it to a variable named rating (the rating has the index number 7). Convert the rating value from a string to a float.\n",
        "        Append the value stored in rating to the list all_ratings.\n",
        "    Compute the sum of all ratings using the sum() command.\n",
        "    Divide the sum of all ratings by the number of ratings, and assign the result to a variable named avg_rating.\n"
      ]
    },
    {
      "cell_type": "code",
      "metadata": {
        "id": "zrtw4f1CNsfP"
      },
      "source": [
        "opened_file = open('AppleStore.csv')\n",
        "from csv import reader\n",
        "read_file = reader(opened_file)\n",
        "apps_data = list(read_file)\n",
        "\n",
        "all_ratings = []\n",
        "\n",
        "for row in apps_data[1:]:\n",
        "    rating = float(row[7])\n",
        "    all_ratings.append(rating)\n",
        "     \n",
        "\n",
        "\n",
        "avg_rating = sum(all_ratings) / len(all_ratings)\n",
        "\n",
        "avg_rating"
      ],
      "execution_count": null,
      "outputs": []
    }
  ]
}