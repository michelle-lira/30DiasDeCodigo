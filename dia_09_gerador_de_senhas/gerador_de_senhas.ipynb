{
  "nbformat": 4,
  "nbformat_minor": 0,
  "metadata": {
    "colab": {
      "name": "gerador_de_senhas.ipynb",
      "provenance": []
    },
    "kernelspec": {
      "name": "python3",
      "display_name": "Python 3"
    },
    "language_info": {
      "name": "python"
    }
  },
  "cells": [
    {
      "cell_type": "markdown",
      "metadata": {
        "id": "viUu4fLKMBJ3"
      },
      "source": [
        "# Gerador de senhas usando Python\n",
        "---\n",
        "\n",
        "> Crie uma senha segura!"
      ]
    },
    {
      "cell_type": "markdown",
      "metadata": {
        "id": "aXMkjHWoNiRR"
      },
      "source": [
        "__Utilizaremos random, string.digits, punctuation, ascii_letters e ascii_uppercase__    \n",
        "Os dígitos da constante da string podem ser usados ​​em muitas aplicações práticas.   \n",
        "Vamos utilizar dígitos no código para gerar senhas aleatórias fortes de determinado tamanho.    \n",
        "Uma senha com 30 caracteres."
      ]
    },
    {
      "cell_type": "code",
      "metadata": {
        "colab": {
          "base_uri": "https://localhost:8080/"
        },
        "id": "pwhB_-0LL8kH",
        "outputId": "9f7a5c3f-11c9-4403-b958-4a657b2bda21"
      },
      "source": [
        "# Importando o módulo random\n",
        "import random\n",
        "from string import digits\n",
        "from string import punctuation\n",
        "from string import ascii_letters\n",
        "from string import ascii_uppercase\n",
        "\n",
        "symbols = ascii_letters + digits + ascii_uppercase + punctuation\n",
        "secure_random = random.SystemRandom()\n",
        "password = \"\".join(secure_random.choice(symbols) for i in range(30))\n",
        "\n",
        "print(password)"
      ],
      "execution_count": 6,
      "outputs": [
        {
          "output_type": "stream",
          "text": [
            "Wz#O1s4ur;BaP8Fp*rx|Z@Cv>NF;C-\n"
          ],
          "name": "stdout"
        }
      ]
    },
    {
      "cell_type": "markdown",
      "metadata": {
        "id": "HzOJZCZSM3I2"
      },
      "source": [
        "#### Fonte: A página Oficina Python foi utilizada como base para o código contido neste notebook."
      ]
    },
    {
      "cell_type": "markdown",
      "metadata": {
        "id": "_AqtUrXeM62c"
      },
      "source": [
        "## Fim"
      ]
    }
  ]
}